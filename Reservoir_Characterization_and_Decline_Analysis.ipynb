{
  "cells": [
    {
      "cell_type": "markdown",
      "metadata": {},
      "source": [
        "# Reservoir Characterization & Decline Analysis\n\nGenerated notebook template.\n"
      ]
    },
    {
      "cell_type": "code",
      "execution_count": null,
      "metadata": {},
      "outputs": [],
      "source": [
        "import pandas as pd, numpy as np\nlogs = pd.read_csv('well_logs.csv')\ncore = pd.read_csv('core_data.csv')\nprod = pd.read_csv('production_timeseries.csv')\nprint(logs.shape, core.shape, prod.shape)\n"
      ]
    },
    {
      "cell_type": "markdown",
      "metadata": {},
      "source": [
        "## Suggested next steps\n- Merge core and logs\n- Train models\n- Fit Arps decline models\n"
      ]
    }
  ],
  "metadata": {
    "kernelspec": {
      "name": "python3",
      "display_name": "Python 3"
    },
    "language_info": {
      "name": "python"
    }
  },
  "nbformat": 4,
  "nbformat_minor": 5
}